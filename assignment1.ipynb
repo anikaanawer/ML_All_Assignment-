{
 "cells": [
  {
   "cell_type": "markdown",
   "id": "518a6362-e4be-42a0-9083-c0d3e78bdbf0",
   "metadata": {},
   "source": [
    "# 1. Write a program that swaps the values of two variables."
   ]
  },
  {
   "cell_type": "code",
   "execution_count": 8,
   "id": "e6df63ca-33ac-4ef1-a54d-9211f668a5a7",
   "metadata": {},
   "outputs": [
    {
     "name": "stdout",
     "output_type": "stream",
     "text": [
      "Before swapping:\n",
      "1st number = 5\n",
      "2nd number = 10\n",
      "After swapping:\n",
      "1st number = 10\n",
      "2nd number = 5\n"
     ]
    }
   ],
   "source": [
    "# Initialize the variables\n",
    "first_num = 5\n",
    "second_num = 10\n",
    "\n",
    "# Print original values\n",
    "print(\"Before swapping:\")\n",
    "print(\"1st number =\", first_num)\n",
    "print(\"2nd number =\", second_num)\n",
    "\n",
    "# Swap the values\n",
    "first_num, second_num = second_num, first_num\n",
    "\n",
    "# Print the swapped values\n",
    "print(\"After swapping:\")\n",
    "print(\"1st number =\", first_num)\n",
    "print(\"2nd number =\", second_num)\n"
   ]
  },
  {
   "cell_type": "markdown",
   "id": "5aaedefb-7175-4bae-ab82-db08ca3e9247",
   "metadata": {},
   "source": [
    "# 2.Write a program that calculates the area of a rectangle given its length and width."
   ]
  },
  {
   "cell_type": "code",
   "execution_count": 11,
   "id": "821775d3-7bc5-4649-bf1e-0ebe6b19d54d",
   "metadata": {},
   "outputs": [
    {
     "name": "stdin",
     "output_type": "stream",
     "text": [
      "Enter the length of the rectangle:  5\n",
      "Enter the width of the rectangle:  4\n"
     ]
    },
    {
     "name": "stdout",
     "output_type": "stream",
     "text": [
      "The area of the rectangle is: 20.0\n"
     ]
    }
   ],
   "source": [
    "# Get the length and width of the rectangle from the user\n",
    "length = float(input(\"Enter the length of the rectangle: \"))\n",
    "width = float(input(\"Enter the width of the rectangle: \"))\n",
    "\n",
    "# Calculate the area\n",
    "area = length * width\n",
    "\n",
    "# Display the area\n",
    "print(f\"The area of the rectangle is: {area}\")\n"
   ]
  },
  {
   "cell_type": "markdown",
   "id": "80066fa3-9384-4c2e-bf72-4dc50475a644",
   "metadata": {},
   "source": [
    "# 3.Write a program that converts temperature from Fahrenheit to Celsius."
   ]
  },
  {
   "cell_type": "code",
   "execution_count": 16,
   "id": "bb8c83b2-fb65-4773-b1f6-095c17953714",
   "metadata": {},
   "outputs": [
    {
     "name": "stdin",
     "output_type": "stream",
     "text": [
      "Enter the temperature in Fahrenheit:  102\n"
     ]
    },
    {
     "name": "stdout",
     "output_type": "stream",
     "text": [
      "The temperature in Celsius is 38.89\n"
     ]
    }
   ],
   "source": [
    "# Input: temperature in Fahrenheit\n",
    "fahrenheit = float(input(\"Enter the temperature in Fahrenheit: \"))\n",
    "\n",
    "# Convert to Celsius\n",
    "celsius = (fahrenheit - 32) * 5/9\n",
    "\n",
    "# Output the temperature in Celsius\n",
    "print(f\"The temperature in Celsius is {celsius:.2f}\")\n"
   ]
  },
  {
   "cell_type": "markdown",
   "id": "16b52435-4e08-4b3b-93d4-fa08b4ce272a",
   "metadata": {},
   "source": [
    "# 4.Write a program that calculates the volume of a sphere given its radius."
   ]
  },
  {
   "cell_type": "code",
   "execution_count": 21,
   "id": "534e4ac8-f71e-4c46-9deb-5ba937f6609c",
   "metadata": {},
   "outputs": [
    {
     "name": "stdin",
     "output_type": "stream",
     "text": [
      "Enter the radius of the sphere:  5\n"
     ]
    },
    {
     "name": "stdout",
     "output_type": "stream",
     "text": [
      "The volume of the sphere is 523.60 cubic units\n"
     ]
    }
   ],
   "source": [
    "import math\n",
    "\n",
    "# Input: radius of the sphere\n",
    "radius = float(input(\"Enter the radius of the sphere: \"))\n",
    "\n",
    "# Calculate the volume of the sphere\n",
    "volume = (4/3) * math.pi * (radius ** 3)\n",
    "\n",
    "# Output the volume\n",
    "print(f\"The volume of the sphere is {volume:.2f} cubic units\")\n"
   ]
  },
  {
   "cell_type": "markdown",
   "id": "fdf288f0-5b3c-45f5-9bb0-5b88a6bca06c",
   "metadata": {},
   "source": [
    "# 5.Write a program that finds the average of three numbers."
   ]
  },
  {
   "cell_type": "code",
   "execution_count": 24,
   "id": "28a91ef1-744f-4eef-9cb6-a47f7d913ee9",
   "metadata": {},
   "outputs": [
    {
     "name": "stdin",
     "output_type": "stream",
     "text": [
      "Enter the first number:  5\n",
      "Enter the second number:  6\n",
      "Enter the third number:  7\n"
     ]
    },
    {
     "name": "stdout",
     "output_type": "stream",
     "text": [
      "The average of the three numbers is 6.00\n"
     ]
    }
   ],
   "source": [
    "# Input: three numbers\n",
    "num1 = float(input(\"Enter the first number: \"))\n",
    "num2 = float(input(\"Enter the second number: \"))\n",
    "num3 = float(input(\"Enter the third number: \"))\n",
    "\n",
    "# Calculate the average\n",
    "average = (num1 + num2 + num3) / 3\n",
    "\n",
    "# Output the average\n",
    "print(f\"The average of the three numbers is {average:.2f}\")\n"
   ]
  },
  {
   "cell_type": "markdown",
   "id": "2bfa0d5e-590b-452e-a11e-5084baa022b1",
   "metadata": {},
   "source": [
    "# 6. Write a program that determines if a number is even or odd."
   ]
  },
  {
   "cell_type": "code",
   "execution_count": 27,
   "id": "87a68cf0-9a58-47f8-9835-2a8373857a16",
   "metadata": {},
   "outputs": [
    {
     "name": "stdin",
     "output_type": "stream",
     "text": [
      "Enter a number:  999\n"
     ]
    },
    {
     "name": "stdout",
     "output_type": "stream",
     "text": [
      "999 is odd.\n"
     ]
    }
   ],
   "source": [
    "# Input: a number\n",
    "num = int(input(\"Enter a number: \"))\n",
    "\n",
    "# Determine if the number is even or odd\n",
    "if num % 2 == 0:\n",
    "    print(f\"{num} is even.\")\n",
    "else:\n",
    "    print(f\"{num} is odd.\")\n"
   ]
  },
  {
   "cell_type": "markdown",
   "id": "287a0e8f-f0a8-4b48-bf7e-fbf4b5b9d4eb",
   "metadata": {},
   "source": [
    "# 7.Write a program that determines if a year is a leap year or not."
   ]
  },
  {
   "cell_type": "code",
   "execution_count": 32,
   "id": "24e994a9-c0ad-453d-bbbe-3f06f2cd6cf5",
   "metadata": {},
   "outputs": [
    {
     "name": "stdin",
     "output_type": "stream",
     "text": [
      "Enter a year:  2020\n"
     ]
    },
    {
     "name": "stdout",
     "output_type": "stream",
     "text": [
      "2020 is a leap year.\n"
     ]
    }
   ],
   "source": [
    "# Input: a year\n",
    "year = int(input(\"Enter a year: \"))\n",
    "\n",
    "# Check if the year is a leap year\n",
    "if (year % 4 == 0 and year % 100 != 0) or (year % 400 == 0):\n",
    "    print(f\"{year} is a leap year.\")\n",
    "else:\n",
    "    print(f\"{year} is not a leap year.\")\n"
   ]
  },
  {
   "cell_type": "markdown",
   "id": "9b977d01-6375-4cb9-a41e-0b322b76f488",
   "metadata": {},
   "source": [
    "# 8.Write a program that finds the maximum of three numbers"
   ]
  },
  {
   "cell_type": "code",
   "execution_count": 36,
   "id": "b9f9f80d-b5e9-4f18-8ebb-7fe3ddfe1352",
   "metadata": {},
   "outputs": [
    {
     "name": "stdin",
     "output_type": "stream",
     "text": [
      "Enter the first number:  10\n",
      "Enter the second number:  33\n",
      "Enter the third number:  21\n"
     ]
    },
    {
     "name": "stdout",
     "output_type": "stream",
     "text": [
      "The maximum of the three numbers is: 33.0\n"
     ]
    }
   ],
   "source": [
    "# Input: three numbers\n",
    "num1 = float(input(\"Enter the first number: \"))\n",
    "num2 = float(input(\"Enter the second number: \"))\n",
    "num3 = float(input(\"Enter the third number: \"))\n",
    "\n",
    "# Determine the maximum number\n",
    "max_num = num1\n",
    "\n",
    "if num2 > max_num:\n",
    "    max_num = num2\n",
    "if num3 > max_num:\n",
    "    max_num = num3\n",
    "\n",
    "# Output the maximum number\n",
    "print(f\"The maximum of the three numbers is: {max_num}\")\n"
   ]
  },
  {
   "cell_type": "markdown",
   "id": "c33e16ab-674b-408d-baeb-bd6b1454c338",
   "metadata": {},
   "source": [
    "# 9. Write a program that determines if a number is positive, negative, or zero."
   ]
  },
  {
   "cell_type": "code",
   "execution_count": 39,
   "id": "c303a90d-0755-49bc-b911-ccd358c841b1",
   "metadata": {},
   "outputs": [
    {
     "name": "stdin",
     "output_type": "stream",
     "text": [
      "Enter a number:  -99\n"
     ]
    },
    {
     "name": "stdout",
     "output_type": "stream",
     "text": [
      "The number is negative.\n"
     ]
    }
   ],
   "source": [
    "# Input: a number\n",
    "number = float(input(\"Enter a number: \"))\n",
    "\n",
    "# Determine if the number is positive, negative, or zero\n",
    "if number > 0:\n",
    "    print(\"The number is positive.\")\n",
    "elif number < 0:\n",
    "    print(\"The number is negative.\")\n",
    "else:\n",
    "    print(\"The number is zero.\")\n"
   ]
  },
  {
   "cell_type": "markdown",
   "id": "8d3a7f35-5a85-4d71-88e8-1b23b61dd967",
   "metadata": {},
   "source": [
    "# 10. Write a program that calculates the grade based on a given percentage."
   ]
  },
  {
   "cell_type": "code",
   "execution_count": 48,
   "id": "470e7373-3278-462d-99e6-fa61d595b88d",
   "metadata": {},
   "outputs": [
    {
     "name": "stdin",
     "output_type": "stream",
     "text": [
      "Enter the percentage:  40\n"
     ]
    },
    {
     "name": "stdout",
     "output_type": "stream",
     "text": [
      "The grade for 40.0% is F.\n"
     ]
    }
   ],
   "source": [
    "# Input the percentage from the user\n",
    "percentage = float(input(\"Enter the percentage: \"))\n",
    "\n",
    "# Determine the grade based on the percentage\n",
    "if percentage >= 90:\n",
    "    grade = 'A+'\n",
    "elif percentage >= 80:\n",
    "    grade = 'A'\n",
    "elif percentage >= 70:\n",
    "    grade = 'B'\n",
    "elif percentage >= 60:\n",
    "    grade = 'D'\n",
    "else:\n",
    "     grade = 'F'\n",
    "\n",
    "# Output the grade\n",
    "print(f\"The grade for {percentage}% is {grade}.\")\n"
   ]
  },
  {
   "cell_type": "markdown",
   "id": "13b1aa3b-ed12-4058-80ab-09a60a14fed7",
   "metadata": {},
   "source": [
    "#  11. Write a program that prints the first `n` natural numbers."
   ]
  },
  {
   "cell_type": "code",
   "execution_count": 55,
   "id": "1c3fdbcc-a543-4c38-8cca-4f342eece385",
   "metadata": {},
   "outputs": [
    {
     "name": "stdin",
     "output_type": "stream",
     "text": [
      "Enter the value of n:  10\n"
     ]
    },
    {
     "name": "stdout",
     "output_type": "stream",
     "text": [
      "1 2 3 4 5 6 7 8 9 10 "
     ]
    }
   ],
   "source": [
    "# Input the value of n from the user\n",
    "n = int(input(\"Enter the value of n: \"))\n",
    "\n",
    "# Print the first n natural numbers\n",
    "for i in range(1, n + 1):\n",
    "   # print(i)\n",
    "     print(i, end=' ')\n"
   ]
  },
  {
   "cell_type": "markdown",
   "id": "6d5f1fdc-d936-424e-b611-c9c1b598c354",
   "metadata": {},
   "source": [
    "#  12. Write a program that calculates the factorial of a number."
   ]
  },
  {
   "cell_type": "code",
   "execution_count": 68,
   "id": "2963508c-3b5e-4dad-80d3-bcb7dfdcc2bb",
   "metadata": {},
   "outputs": [
    {
     "name": "stdin",
     "output_type": "stream",
     "text": [
      "Enter a number to calculate its factorial:  5\n"
     ]
    },
    {
     "name": "stdout",
     "output_type": "stream",
     "text": [
      "The factorial of 5 is 120.\n"
     ]
    }
   ],
   "source": [
    "# Input the number from the user\n",
    "number = int(input(\"Enter a number to calculate its factorial: \"))\n",
    "\n",
    "factorial = 1\n",
    "\n",
    "# Calculate the factorial\n",
    "\n",
    "if number < 0:\n",
    "    print(\"Factorial is not defined for negative numbers.\")\n",
    "elif number == 0:\n",
    "    print(\"The factorial of 0 is 1.\")\n",
    "else:\n",
    "    for i in range(1, number + 1):\n",
    "        factorial *= i\n",
    "    print(f\"The factorial of {number} is {factorial}.\")\n"
   ]
  },
  {
   "cell_type": "markdown",
   "id": "1833e9f3-c3e2-4ec3-a6b3-ab6f4b8df204",
   "metadata": {},
   "source": [
    "# 13. Write a program that generates a Fibonacci sequence of length `n`."
   ]
  },
  {
   "cell_type": "code",
   "execution_count": 71,
   "id": "0126e70b-ad65-49d1-821f-ae4380c48289",
   "metadata": {},
   "outputs": [
    {
     "name": "stdin",
     "output_type": "stream",
     "text": [
      "Enter the length of the Fibonacci sequence:  10\n"
     ]
    },
    {
     "name": "stdout",
     "output_type": "stream",
     "text": [
      "Fibonacci sequence: [0, 1, 1, 2, 3, 5, 8, 13, 21, 34]\n"
     ]
    }
   ],
   "source": [
    "# Input the length of the Fibonacci sequence \n",
    "\n",
    "n = int(input(\"Enter the length of the Fibonacci sequence: \"))\n",
    "\n",
    "# Initialize the first two numbers of the Fibonacci sequence\n",
    "a, b = 0, 1\n",
    "\n",
    "# Print the Fibonacci sequence\n",
    "if n <= 0:\n",
    "    print(\"The length should be a positive number.\")\n",
    "elif n == 1:\n",
    "    print(\"Fibonacci sequence of length 1: [0]\")\n",
    "else:\n",
    "    sequence = []\n",
    "    for _ in range(n):\n",
    "        sequence.append(a)\n",
    "        a, b = b, a + b\n",
    "    print(\"Fibonacci sequence:\", sequence)\n"
   ]
  },
  {
   "cell_type": "markdown",
   "id": "87430058-c3f1-4e27-aa0d-33fdc5fab039",
   "metadata": {},
   "source": [
    "# 14. Write a program that checks if a given number is prime or not."
   ]
  },
  {
   "cell_type": "code",
   "execution_count": 74,
   "id": "eca1b2aa-6612-4b46-a675-974759787de4",
   "metadata": {},
   "outputs": [
    {
     "name": "stdin",
     "output_type": "stream",
     "text": [
      "Enter a number to check if it is prime:  222\n"
     ]
    },
    {
     "name": "stdout",
     "output_type": "stream",
     "text": [
      "222 is not a prime number.\n"
     ]
    }
   ],
   "source": [
    "# Input the number \n",
    "num = int(input(\"Enter a number to check if it is prime: \"))\n",
    "\n",
    "# Check if the number is less than 2 (not prime)\n",
    "if num <= 1:\n",
    "    print(f\"{num} is not a prime number.\")\n",
    "else:\n",
    "    # Assume the number is prime\n",
    "    is_prime = True\n",
    "    \n",
    "    # Check for factors from 2 to the square root of num\n",
    "    for i in range(2, int(num ** 0.5) + 1):\n",
    "        if num % i == 0:\n",
    "            is_prime = False\n",
    "            break\n",
    "    \n",
    "    # Output the result\n",
    "    if is_prime:\n",
    "        print(f\"{num} is a prime number.\")\n",
    "    else:\n",
    "        print(f\"{num} is not a prime number.\")\n"
   ]
  },
  {
   "cell_type": "markdown",
   "id": "4d814884-fd00-437c-835f-a73949c84096",
   "metadata": {},
   "source": [
    "#  15. Write a program that prints the multiplication table of a given number."
   ]
  },
  {
   "cell_type": "code",
   "execution_count": 81,
   "id": "b4aa9dfd-ecf4-46e0-8072-bb590d6931de",
   "metadata": {},
   "outputs": [
    {
     "name": "stdin",
     "output_type": "stream",
     "text": [
      "Enter a number to print its multiplication table:  8\n",
      "Enter the range:  5\n"
     ]
    },
    {
     "name": "stdout",
     "output_type": "stream",
     "text": [
      "Multiplication table for 8:\n",
      "8 x 1 = 8\n",
      "8 x 2 = 16\n",
      "8 x 3 = 24\n",
      "8 x 4 = 32\n",
      "8 x 5 = 40\n"
     ]
    }
   ],
   "source": [
    "# Input the number \n",
    "num = int(input(\"Enter a number to print its multiplication table: \"))\n",
    "\n",
    "# Input the range of the table\n",
    "max_multiplier = int(input(\"Enter the range: \"))\n",
    "\n",
    "# Print the multiplication table\n",
    "\n",
    "print(f\"Multiplication table for {num}:\")\n",
    "\n",
    "for i in range(1, max_multiplier + 1):\n",
    "    print(f\"{num} x {i} = {num * i}\")\n"
   ]
  },
  {
   "cell_type": "markdown",
   "id": "7bac18f5-50f6-409d-b0fd-3f4047d683a5",
   "metadata": {},
   "source": [
    "# 16. Write a program that finds the sum of all even numbers between 1 and `n`."
   ]
  },
  {
   "cell_type": "code",
   "execution_count": 84,
   "id": "d9e90966-0323-4076-8f52-72f080823657",
   "metadata": {},
   "outputs": [
    {
     "name": "stdin",
     "output_type": "stream",
     "text": [
      "Enter a number to find the sum of all even numbers between 1 and n:  20\n"
     ]
    },
    {
     "name": "stdout",
     "output_type": "stream",
     "text": [
      "The sum of all even numbers between 1 and 20 is 110.\n"
     ]
    }
   ],
   "source": [
    "# Input the value of n \n",
    "n = int(input(\"Enter a number to find the sum of all even numbers between 1 and n: \"))\n",
    "\n",
    "# Initialize the sum of even numbers\n",
    "sum_even = 0\n",
    "\n",
    "# Calculate the sum of even numbers\n",
    "for i in range(2, n + 1, 2):\n",
    "    sum_even += i\n",
    "\n",
    "# Print the result\n",
    "print(f\"The sum of all even numbers between 1 and {n} is {sum_even}.\")\n"
   ]
  },
  {
   "cell_type": "markdown",
   "id": "6898ab57-33e9-46eb-aa51-78832914e998",
   "metadata": {},
   "source": [
    "# 17. Write a program that reverses a given number."
   ]
  },
  {
   "cell_type": "code",
   "execution_count": 89,
   "id": "397c1de2-fe06-49ef-8d1f-c57ffefe54ad",
   "metadata": {},
   "outputs": [
    {
     "name": "stdin",
     "output_type": "stream",
     "text": [
      "Enter a number to reverse:  10000\n"
     ]
    },
    {
     "name": "stdout",
     "output_type": "stream",
     "text": [
      "The reversed number is 00001.\n"
     ]
    }
   ],
   "source": [
    "# Input the number \n",
    "num = input(\"Enter a number to reverse: \")\n",
    "\n",
    "# Check if the input is valid (it should be numeric)\n",
    "\n",
    "if num.isdigit():\n",
    "    \n",
    "    # Reverse the number\n",
    "    reversed_num = num[::-1]\n",
    "    print(f\"The reversed number is {reversed_num}.\")\n",
    "    \n",
    "else:\n",
    "    print(\"Invalid input. Please enter a numeric value.\")\n"
   ]
  },
  {
   "cell_type": "markdown",
   "id": "1fda5fb4-9487-4c90-94d6-a76cb69681d1",
   "metadata": {},
   "source": [
    "# 18. Write a program that checks if a given string, is a palindrome."
   ]
  },
  {
   "cell_type": "code",
   "execution_count": 102,
   "id": "9d11782c-849b-4858-a363-29834152fc9f",
   "metadata": {},
   "outputs": [
    {
     "name": "stdin",
     "output_type": "stream",
     "text": [
      "Enter a string to check if it is a palindrome:  I love flower\n"
     ]
    },
    {
     "name": "stdout",
     "output_type": "stream",
     "text": [
      "iloveflower\n",
      "'I love flower' is not a palindrome.\n"
     ]
    }
   ],
   "source": [
    "# Input the string \n",
    "string = input(\"Enter a string to check if it is a palindrome: \")\n",
    "\n",
    "# Remove spaces and convert to lowercase for comparison\n",
    "processed_string = string.replace(\" \", \"\").lower()\n",
    "print(processed_string)\n",
    "\n",
    "# Check if the processed string is equal to its reverse\n",
    "\n",
    "if processed_string == processed_string[::-1]:\n",
    "    print(f\"'{string}' is a palindrome.\")\n",
    "else:\n",
    "    print(f\"'{string}' is not a palindrome.\")\n"
   ]
  },
  {
   "cell_type": "markdown",
   "id": "ff3489d5-8528-492c-b98b-876f5e9ee870",
   "metadata": {},
   "source": [
    "#  19. Write a program that generates a random number and allows the user to guess it."
   ]
  },
  {
   "cell_type": "code",
   "execution_count": 105,
   "id": "595fe4ab-2702-451a-86c3-a966f8cd2945",
   "metadata": {},
   "outputs": [
    {
     "name": "stdout",
     "output_type": "stream",
     "text": [
      "I have generated a random number between 1 and 100.\n",
      "Try to guess it!\n"
     ]
    },
    {
     "name": "stdin",
     "output_type": "stream",
     "text": [
      "Enter your guess:  5\n"
     ]
    },
    {
     "name": "stdout",
     "output_type": "stream",
     "text": [
      "Too low! Try again.\n"
     ]
    },
    {
     "name": "stdin",
     "output_type": "stream",
     "text": [
      "Enter your guess:  8\n"
     ]
    },
    {
     "name": "stdout",
     "output_type": "stream",
     "text": [
      "Too low! Try again.\n"
     ]
    },
    {
     "name": "stdin",
     "output_type": "stream",
     "text": [
      "Enter your guess:  55\n"
     ]
    },
    {
     "name": "stdout",
     "output_type": "stream",
     "text": [
      "Too high! Try again.\n"
     ]
    },
    {
     "name": "stdin",
     "output_type": "stream",
     "text": [
      "Enter your guess:  30\n"
     ]
    },
    {
     "name": "stdout",
     "output_type": "stream",
     "text": [
      "Too low! Try again.\n"
     ]
    },
    {
     "name": "stdin",
     "output_type": "stream",
     "text": [
      "Enter your guess:  40\n"
     ]
    },
    {
     "name": "stdout",
     "output_type": "stream",
     "text": [
      "Too low! Try again.\n"
     ]
    },
    {
     "name": "stdin",
     "output_type": "stream",
     "text": [
      "Enter your guess:  45\n"
     ]
    },
    {
     "name": "stdout",
     "output_type": "stream",
     "text": [
      "Too low! Try again.\n"
     ]
    },
    {
     "name": "stdin",
     "output_type": "stream",
     "text": [
      "Enter your guess:  55\n"
     ]
    },
    {
     "name": "stdout",
     "output_type": "stream",
     "text": [
      "Too high! Try again.\n"
     ]
    },
    {
     "name": "stdin",
     "output_type": "stream",
     "text": [
      "Enter your guess:  49\n"
     ]
    },
    {
     "name": "stdout",
     "output_type": "stream",
     "text": [
      "Too high! Try again.\n"
     ]
    },
    {
     "name": "stdin",
     "output_type": "stream",
     "text": [
      "Enter your guess:  48\n"
     ]
    },
    {
     "name": "stdout",
     "output_type": "stream",
     "text": [
      "Too high! Try again.\n"
     ]
    },
    {
     "name": "stdin",
     "output_type": "stream",
     "text": [
      "Enter your guess:  47\n"
     ]
    },
    {
     "name": "stdout",
     "output_type": "stream",
     "text": [
      "Congratulations! You guessed the number 47 in 10 attempts.\n"
     ]
    }
   ],
   "source": [
    "import random\n",
    "\n",
    "# Generate a random number between 1 and 100\n",
    "random_number = random.randint(1, 100)\n",
    "\n",
    "# Initialize the number of attempts\n",
    "attempts = 0\n",
    "\n",
    "print(\"I have generated a random number between 1 and 100.\")\n",
    "print(\"Try to guess it!\")\n",
    "\n",
    "# Loop until guesses the correct number\n",
    "while True:\n",
    "        # Input the user's guess\n",
    "        guess = int(input(\"Enter your guess: \"))\n",
    "        attempts += 1\n",
    "        \n",
    "        # Check if the guess is correct, too low, or too high\n",
    "        if guess < random_number:\n",
    "            print(\"Too low! Try again.\")\n",
    "        elif guess > random_number:\n",
    "            print(\"Too high! Try again.\")\n",
    "        else:\n",
    "            print(f\"Congratulations! You guessed the number {random_number} in {attempts} attempts.\")\n",
    "            break\n"
   ]
  },
  {
   "cell_type": "markdown",
   "id": "26526bd3-f803-426d-a44b-dbb54e5a2d2f",
   "metadata": {},
   "source": [
    "#  20. Write a program that finds the greatest common divisor (GCD) of two numbers."
   ]
  },
  {
   "cell_type": "code",
   "execution_count": 108,
   "id": "24396f09-f2ad-4315-a18d-0eaec9c37067",
   "metadata": {},
   "outputs": [
    {
     "name": "stdin",
     "output_type": "stream",
     "text": [
      "Enter the first number:  16\n",
      "Enter the second number:  3\n"
     ]
    },
    {
     "name": "stdout",
     "output_type": "stream",
     "text": [
      "The greatest common divisor (GCD) is 1.\n"
     ]
    }
   ],
   "source": [
    "# Input two numbers\n",
    "a = int(input(\"Enter the first number: \"))\n",
    "b = int(input(\"Enter the second number: \"))\n",
    "\n",
    "# Ensure the numbers are positive\n",
    "if a <= 0 or b <= 0:\n",
    "    print(\"Please enter positive integers only.\")\n",
    "else:\n",
    "    # Euclidean algorithm to find GCD\n",
    "    while b != 0:\n",
    "        a, b = b, a % b\n",
    "\n",
    "    # Output the GCD\n",
    "    print(f\"The greatest common divisor (GCD) is {a}.\")\n"
   ]
  },
  {
   "cell_type": "markdown",
   "id": "a7d957fc-e090-45d0-915c-a3f78f64ab5c",
   "metadata": {},
   "source": [
    "# Thank You!"
   ]
  },
  {
   "cell_type": "code",
   "execution_count": null,
   "id": "7a819ed1-a92e-4393-a516-ca0ae2afbb5d",
   "metadata": {},
   "outputs": [],
   "source": []
  }
 ],
 "metadata": {
  "kernelspec": {
   "display_name": "Python 3 (ipykernel)",
   "language": "python",
   "name": "python3"
  },
  "language_info": {
   "codemirror_mode": {
    "name": "ipython",
    "version": 3
   },
   "file_extension": ".py",
   "mimetype": "text/x-python",
   "name": "python",
   "nbconvert_exporter": "python",
   "pygments_lexer": "ipython3",
   "version": "3.12.4"
  }
 },
 "nbformat": 4,
 "nbformat_minor": 5
}
